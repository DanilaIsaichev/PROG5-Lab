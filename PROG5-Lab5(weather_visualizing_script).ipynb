{
  "nbformat": 4,
  "nbformat_minor": 0,
  "metadata": {
    "colab": {
      "name": "weather-visualizing-script.ipynb",
      "provenance": [],
      "collapsed_sections": []
    },
    "kernelspec": {
      "name": "python3",
      "display_name": "Python 3"
    }
  },
  "cells": [
    {
      "cell_type": "markdown",
      "metadata": {
        "id": "JRyM5gjqrD4d"
      },
      "source": [
        "# Лабораторная работа 5. Визуализация данных о погоде с помощью matplotlib. \n",
        "\n",
        "Цель работы: научиться обрабатывать и визуализировать данные, \n",
        "полученные с помощью API (на примере сервиса openweathermap).\n",
        "\n",
        "Описание работы: получить данные о погоде за 5 последний дней и визуализировать эти данные, используя диаграмму рассеяния (scatterplot). \n",
        "Затем, посчитать среднюю температуру за каждый день и построить рядом (на этом же изображении) линейную диаграмму изменения температур.\n",
        "\n",
        "Замечание: можно использовать другие сервисы для получения прогноза погоды на 7 дней (gismeteo, pogoda.yandex.ru), но сигнатура функций должна быть такая же как в примере ниже.\n",
        "\n",
        "\n",
        "Лабораторная работа состоит из 2-х основных частей:\n",
        "1. Получение данных посредством API.\n",
        "2. Визуализация данных.\n",
        "\n",
        "Выполним все этапы и визуализируем данные о погоде только за вчерашний день: 01.11.2021.\n",
        "\n",
        "Начнем с части 1: получим данные в формате json через API openweathermap"
      ]
    },
    {
      "cell_type": "code",
      "metadata": {
        "id": "lbWWo6W1BUAC"
      },
      "source": [
        ""
      ],
      "execution_count": null,
      "outputs": []
    },
    {
      "cell_type": "code",
      "metadata": {
        "colab": {
          "base_uri": "https://localhost:8080/"
        },
        "id": "MARUwWRv3tR0",
        "outputId": "4d5c88f9-f89d-43f2-b7b1-6b5e0f48c6ff"
      },
      "source": [
        "# example of one call api openweathermap\n",
        "\n",
        "import requests\n",
        "import json\n",
        "\n",
        "\n",
        "\n",
        "\n",
        "city, lat, lon = \"Saint Petersburg, RU\", 33.44, -94.04\n",
        "api_key = 'вставить api key'\n",
        "dt = 1635765071\n",
        "req = requests.get(\n",
        "            f'http://api.openweathermap.org/data/2.5/'\n",
        "            f'onecall/timemachine?lat={lat}&lon={lon}&dt={dt}&'\n",
        "            f'appid={api_key}&lang=ru&units=metric')\n",
        "\n",
        "req_obj = json.loads(req.text)  # Преобразуем объект типа Request в json-формат\n",
        "print(req_obj)"
      ],
      "execution_count": null,
      "outputs": [
        {
          "output_type": "stream",
          "name": "stdout",
          "text": [
            "{'lat': 33.44, 'lon': -94.04, 'timezone': 'America/Chicago', 'timezone_offset': -18000, 'current': {'dt': 1635765071, 'sunrise': 1635770103, 'sunset': 1635809058, 'temp': 9.82, 'feels_like': 8.49, 'pressure': 1025, 'humidity': 88, 'dew_point': 7.93, 'uvi': 0, 'clouds': 1, 'visibility': 10000, 'wind_speed': 2.68, 'wind_deg': 66, 'wind_gust': 4.02, 'weather': [{'id': 800, 'main': 'Clear', 'description': 'ясно', 'icon': '01n'}]}, 'hourly': [{'dt': 1635724800, 'temp': 17.63, 'feels_like': 16.86, 'pressure': 1019, 'humidity': 54, 'dew_point': 8.22, 'uvi': 0, 'clouds': 0, 'visibility': 10000, 'wind_speed': 0.45, 'wind_deg': 112, 'wind_gust': 0.89, 'weather': [{'id': 800, 'main': 'Clear', 'description': 'ясно', 'icon': '01n'}]}, {'dt': 1635728400, 'temp': 17.2, 'feels_like': 16.39, 'pressure': 1020, 'humidity': 54, 'dew_point': 7.82, 'uvi': 0, 'clouds': 1, 'visibility': 10000, 'wind_speed': 1.34, 'wind_deg': 119, 'wind_gust': 1.79, 'weather': [{'id': 800, 'main': 'Clear', 'description': 'ясно', 'icon': '01n'}]}, {'dt': 1635732000, 'temp': 16.91, 'feels_like': 16.07, 'pressure': 1021, 'humidity': 54, 'dew_point': 7.55, 'uvi': 0, 'clouds': 1, 'visibility': 10000, 'wind_speed': 0.45, 'wind_deg': 135, 'wind_gust': 0.89, 'weather': [{'id': 800, 'main': 'Clear', 'description': 'ясно', 'icon': '01n'}]}, {'dt': 1635735600, 'temp': 15.92, 'feels_like': 15.08, 'pressure': 1021, 'humidity': 58, 'dew_point': 7.68, 'uvi': 0, 'clouds': 1, 'visibility': 10000, 'wind_speed': 2.06, 'wind_deg': 120, 'weather': [{'id': 800, 'main': 'Clear', 'description': 'ясно', 'icon': '01n'}]}, {'dt': 1635739200, 'temp': 15.17, 'feels_like': 14.36, 'pressure': 1022, 'humidity': 62, 'dew_point': 7.95, 'uvi': 0, 'clouds': 1, 'visibility': 10000, 'wind_speed': 0.45, 'wind_deg': 112, 'wind_gust': 0.45, 'weather': [{'id': 800, 'main': 'Clear', 'description': 'ясно', 'icon': '01n'}]}, {'dt': 1635742800, 'temp': 14.21, 'feels_like': 13.44, 'pressure': 1021, 'humidity': 67, 'dew_point': 8.18, 'uvi': 0, 'clouds': 1, 'visibility': 10000, 'wind_speed': 2.57, 'wind_deg': 120, 'weather': [{'id': 800, 'main': 'Clear', 'description': 'ясно', 'icon': '01n'}]}, {'dt': 1635746400, 'temp': 12.34, 'feels_like': 11.59, 'pressure': 1021, 'humidity': 75, 'dew_point': 8.04, 'uvi': 0, 'clouds': 1, 'visibility': 10000, 'wind_speed': 2.06, 'wind_deg': 90, 'weather': [{'id': 800, 'main': 'Clear', 'description': 'ясно', 'icon': '01n'}]}, {'dt': 1635750000, 'temp': 12.61, 'feels_like': 11.83, 'pressure': 1022, 'humidity': 73, 'dew_point': 7.9, 'uvi': 0, 'clouds': 1, 'visibility': 10000, 'wind_speed': 1.79, 'wind_deg': 89, 'wind_gust': 3.13, 'weather': [{'id': 800, 'main': 'Clear', 'description': 'ясно', 'icon': '01n'}]}, {'dt': 1635753600, 'temp': 12.35, 'feels_like': 11.6, 'pressure': 1022, 'humidity': 75, 'dew_point': 8.05, 'uvi': 0, 'clouds': 1, 'visibility': 10000, 'wind_speed': 1.79, 'wind_deg': 94, 'wind_gust': 4.47, 'weather': [{'id': 800, 'main': 'Clear', 'description': 'ясно', 'icon': '01n'}]}, {'dt': 1635757200, 'temp': 10.83, 'feels_like': 10.08, 'pressure': 1023, 'humidity': 81, 'dew_point': 7.7, 'uvi': 0, 'clouds': 1, 'visibility': 10000, 'wind_speed': 1.79, 'wind_deg': 64, 'wind_gust': 3.13, 'weather': [{'id': 800, 'main': 'Clear', 'description': 'ясно', 'icon': '01n'}]}, {'dt': 1635760800, 'temp': 10.27, 'feels_like': 9.6, 'pressure': 1024, 'humidity': 86, 'dew_point': 8.03, 'uvi': 0, 'clouds': 1, 'visibility': 10000, 'wind_speed': 2.24, 'wind_deg': 61, 'wind_gust': 3.58, 'weather': [{'id': 800, 'main': 'Clear', 'description': 'ясно', 'icon': '01n'}]}, {'dt': 1635764400, 'temp': 9.82, 'feels_like': 8.79, 'pressure': 1025, 'humidity': 87, 'dew_point': 7.76, 'uvi': 0, 'clouds': 1, 'visibility': 10000, 'wind_speed': 2.24, 'wind_deg': 71, 'wind_gust': 3.13, 'weather': [{'id': 800, 'main': 'Clear', 'description': 'ясно', 'icon': '01n'}]}, {'dt': 1635768000, 'temp': 9.82, 'feels_like': 8.79, 'pressure': 1025, 'humidity': 87, 'dew_point': 7.76, 'uvi': 0, 'clouds': 1, 'visibility': 10000, 'wind_speed': 2.24, 'wind_deg': 69, 'wind_gust': 3.13, 'weather': [{'id': 800, 'main': 'Clear', 'description': 'ясно', 'icon': '01n'}]}, {'dt': 1635771600, 'temp': 10.02, 'feels_like': 9.24, 'pressure': 1025, 'humidity': 83, 'dew_point': 7.27, 'uvi': 0, 'clouds': 1, 'visibility': 10000, 'wind_speed': 2.68, 'wind_deg': 73, 'wind_gust': 4.02, 'weather': [{'id': 800, 'main': 'Clear', 'description': 'ясно', 'icon': '01d'}]}, {'dt': 1635775200, 'temp': 10.78, 'feels_like': 10.03, 'pressure': 1026, 'humidity': 81, 'dew_point': 7.65, 'uvi': 0.33, 'clouds': 1, 'visibility': 10000, 'wind_speed': 1.79, 'wind_deg': 90, 'wind_gust': 3.13, 'weather': [{'id': 800, 'main': 'Clear', 'description': 'ясно', 'icon': '01d'}]}, {'dt': 1635778800, 'temp': 13.58, 'feels_like': 12.8, 'pressure': 1026, 'humidity': 69, 'dew_point': 8.01, 'uvi': 1.14, 'clouds': 1, 'visibility': 10000, 'wind_speed': 2.24, 'wind_deg': 98, 'wind_gust': 4.02, 'weather': [{'id': 800, 'main': 'Clear', 'description': 'ясно', 'icon': '01d'}]}, {'dt': 1635782400, 'temp': 15.41, 'feels_like': 14.57, 'pressure': 1026, 'humidity': 60, 'dew_point': 7.69, 'uvi': 2.47, 'clouds': 1, 'visibility': 10000, 'wind_speed': 1.34, 'wind_deg': 86, 'wind_gust': 2.68, 'weather': [{'id': 800, 'main': 'Clear', 'description': 'ясно', 'icon': '01d'}]}, {'dt': 1635786000, 'temp': 17.51, 'feels_like': 16.7, 'pressure': 1025, 'humidity': 53, 'dew_point': 7.83, 'uvi': 3.74, 'clouds': 1, 'visibility': 10000, 'wind_speed': 2.68, 'wind_deg': 88, 'wind_gust': 4.92, 'weather': [{'id': 800, 'main': 'Clear', 'description': 'ясно', 'icon': '01d'}]}, {'dt': 1635789600, 'temp': 19.5, 'feels_like': 19.12, 'pressure': 1024, 'humidity': 62, 'dew_point': 12.03, 'uvi': 4.43, 'clouds': 1, 'visibility': 10000, 'wind_speed': 1.79, 'wind_deg': 88, 'wind_gust': 3.13, 'weather': [{'id': 800, 'main': 'Clear', 'description': 'ясно', 'icon': '01d'}]}, {'dt': 1635793200, 'temp': 21.1, 'feels_like': 20.83, 'pressure': 1023, 'humidity': 60, 'dew_point': 13.04, 'uvi': 4.2, 'clouds': 1, 'visibility': 10000, 'wind_speed': 2.68, 'wind_deg': 67, 'wind_gust': 4.02, 'weather': [{'id': 800, 'main': 'Clear', 'description': 'ясно', 'icon': '01d'}]}, {'dt': 1635796800, 'temp': 21.74, 'feels_like': 21.09, 'pressure': 1022, 'humidity': 43, 'dew_point': 8.63, 'uvi': 3.23, 'clouds': 1, 'visibility': 10000, 'wind_speed': 2.24, 'wind_deg': 191, 'wind_gust': 3.13, 'weather': [{'id': 800, 'main': 'Clear', 'description': 'ясно', 'icon': '01d'}]}, {'dt': 1635800400, 'temp': 22.16, 'feels_like': 21.53, 'pressure': 1022, 'humidity': 42, 'dew_point': 8.66, 'uvi': 1.92, 'clouds': 1, 'visibility': 10000, 'wind_speed': 1.34, 'wind_deg': 131, 'wind_gust': 1.79, 'weather': [{'id': 800, 'main': 'Clear', 'description': 'ясно', 'icon': '01d'}]}, {'dt': 1635804000, 'temp': 21.72, 'feels_like': 21.07, 'pressure': 1022, 'humidity': 43, 'dew_point': 8.61, 'uvi': 0.77, 'clouds': 1, 'visibility': 10000, 'wind_speed': 1.79, 'wind_deg': 127, 'wind_gust': 2.24, 'weather': [{'id': 800, 'main': 'Clear', 'description': 'ясно', 'icon': '01d'}]}, {'dt': 1635807600, 'temp': 20.62, 'feels_like': 19.99, 'pressure': 1022, 'humidity': 48, 'dew_point': 9.24, 'uvi': 0.16, 'clouds': 1, 'visibility': 10000, 'wind_speed': 0.89, 'wind_deg': 72, 'wind_gust': 1.34, 'weather': [{'id': 800, 'main': 'Clear', 'description': 'ясно', 'icon': '01d'}]}]}\n"
          ]
        }
      ]
    },
    {
      "cell_type": "code",
      "metadata": {
        "id": "4OGsISP8rk5C"
      },
      "source": [
        "# key = \"YOUR_PERSONAL_KEY_IS_HERE\"\n",
        "\n",
        "def getweather(api_key=None):\n",
        "    import json\n",
        "    import requests\n",
        "    city, lat, lon = \"Saint Petersburg, RU\", 59.57, 30.19\n",
        "\n",
        "    dt = 1635765071  # datetime of 01/11/2021 in unix-like format\n",
        "    # Для определения unixtime диапазона для получения температур, \n",
        "    # можно использовать сервис https://unixtime-converter.com/\n",
        "\n",
        "    if api_key:\n",
        "        result = dict()\n",
        "        req = requests.get(\n",
        "            f'http://api.openweathermap.org/data/2.5/'\n",
        "            f'onecall/timemachine?lat={lat}&lon={lon}&dt={dt}&'\n",
        "            f'appid={api_key}&lang=ru&units=metric')\n",
        "        \n",
        "        # для других параметров см. https://openweathermap.org/api/one-call-api#history\n",
        "\n",
        "        req_obj = json.loads(req.text)  # Преобразуем объект типа Request в json-формат\n",
        "\n",
        "        # Сохраним результаты температур в формате json, чтобы ниже их визуализировать\n",
        "        result['city'] = city\n",
        "        measures = [{\"dt\": str(measure['dt']), \"temp\": str(measure['temp'])} for measure in req_obj[\"hourly\"]]\n",
        "        \n",
        "\n",
        "        result['temps'] = measures\n",
        "        return json.dumps(result)\n",
        "\n",
        "\n",
        "weather_data_json = getweather(key)\n"
      ],
      "execution_count": null,
      "outputs": []
    },
    {
      "cell_type": "markdown",
      "metadata": {
        "id": "-QYGfDd6jT0g"
      },
      "source": [
        "При вызове этой функции, мы сможем использовать данные в формате json, которые она возвращает. Альтернативный подход - сразу же сформировать из этих данных корректный файл с данными в csv-формате (см. документацию https://docs.python.org/3/library/csv.html).\n",
        "\n",
        "__Перейдем к шагу 2:__\n",
        "визуализируем полученные данные с помощью matplotlib и типа диаграммы scatterplot."
      ]
    },
    {
      "cell_type": "code",
      "metadata": {
        "id": "8G9CL5nMNZFs",
        "colab": {
          "base_uri": "https://localhost:8080/",
          "height": 265
        },
        "outputId": "5c2269f5-1f20-4024-8af0-009a4dfa9842"
      },
      "source": [
        "def visualise_data(json_data=''):\n",
        "\n",
        "    if json_data:\n",
        "        import matplotlib.pyplot as pplt\n",
        "        import pandas\n",
        "        # Мы можем загрузить данные в пригодный для дальнейшей обработки формат\n",
        "        # с помощью метода read_json из pandas.\n",
        "        data = pandas.read_json(json_data)\n",
        "        # print(data)\n",
        "        city_name = data['city']\n",
        "\n",
        "        # получим отдельные столбцы с датами \n",
        "        dates = [_d['dt'] for _d in data['temps'][:]]\n",
        "        # и тепературами\n",
        "        temps = [_t['temp'] for _t in data['temps'][:]]\n",
        "\n",
        "        # построим их на диаграмме рассеяния\n",
        "        pplt.scatter(dates, temps)\n",
        "\n",
        "\n",
        "        pplt.show()\n",
        "\n",
        "        # построенный график необходимо оптимизировать:\n",
        "        #  - добавить название \n",
        "        #  - правильно расположить ось абсцисс\n",
        "        #  - упростить вывод дат (на этом графике они выводятся в формате unixtime)\n",
        "        #  - вывести более строгие значения для подписей осей абсцисс и ординат \n",
        "        #  (xticks, yticks)\n",
        "        # - добавить на график температуры остальных дат \n",
        "        # - добавить второй график со средними значениями\n",
        "\n",
        "visualise_data(weather_data_json)\n"
      ],
      "execution_count": null,
      "outputs": [
        {
          "output_type": "display_data",
          "data": {
            "image/png": "[encoded data removed]",
            "text/plain": [
              "<Figure size 432x288 with 1 Axes>"
            ]
          },
          "metadata": {
            "tags": [],
            "needs_background": "light"
          }
        }
      ]
    },
    {
      "cell_type": "code",
      "metadata": {
        "colab": {
          "base_uri": "https://localhost:8080/",
          "height": 265
        },
        "id": "03Mi69Qn93bE",
        "outputId": "eda5d090-63e0-4838-adc3-fd8be0a288fb"
      },
      "source": [
        "# пример простой визуализации с использованием scatterplot / диаграммы рассеяния\n",
        "import matplotlib.pyplot as pplt\n",
        "\n",
        "\n",
        "dates, temps = ['01/11', '31/10', '30/10'], [6, 10.0, 14.0]\n",
        "pplt.scatter(dates, temps)\n",
        "pplt.show()"
      ],
      "execution_count": null,
      "outputs": [
        {
          "output_type": "display_data",
          "data": {
            "image/png": "[encoded data removed]",
            "text/plain": [
              "<Figure size 432x288 with 1 Axes>"
            ]
          },
          "metadata": {
            "needs_background": "light"
          }
        }
      ]
    },
    {
      "cell_type": "markdown",
      "metadata": {
        "id": "9wKOqGbdsbDh"
      },
      "source": [
        "Решение"
      ]
    },
    {
      "cell_type": "code",
      "metadata": {
        "colab": {
          "base_uri": "https://localhost:8080/",
          "height": 295
        },
        "id": "plj1BQi_sdRs",
        "outputId": "cf2dfb29-c2d9-458c-ed09-97eeaa110382"
      },
      "source": [
        "import requests\n",
        "import json\n",
        "from datetime import datetime\n",
        "\n",
        "def getweather(api_key=None):\n",
        "    city, lat, lon = \"Saint Petersburg, RU\", 59.57, 30.19\n",
        "\n",
        "    dt = int((datetime.today() - datetime(1970,1,1)).total_seconds())\n",
        "\n",
        "    if api_key:\n",
        "        result = dict()\n",
        "        req = requests.get(\n",
        "            f'https://api.openweathermap.org/data/2.5/onecall?lat={lat}&lon={lon}&dt={dt}&exclude={\"hourly\"}&appid={api_key}&lang=ru&units=metric')\n",
        "\n",
        "        req_obj = json.loads(req.text)\n",
        "\n",
        "        result['city'] = city\n",
        "        measures = [{\"dt\": str(measure['dt']), \"temp\": str(measure['temp'])} for measure in req_obj[\"daily\"]]\n",
        "        \n",
        "\n",
        "        result['temps'] = measures\n",
        "        return json.dumps(result)\n",
        "\n",
        "\n",
        "weather_data_json = getweather('26f1cc6b039373fdded0b5855a718b65')\n",
        "\n",
        "def visualise_data(json_data=''):\n",
        "    import ast\n",
        "    if json_data:\n",
        "        import matplotlib.pyplot as pplt\n",
        "        import pandas\n",
        "        # загрузка данных в пригодный для дальнейшей обработки формат\n",
        "        data = pandas.read_json(json_data)\n",
        "        city_name = data['city']\n",
        "        pplt.title(str(city_name[0]))\n",
        "        \n",
        "        pplt.xlabel(\"Date\")\n",
        "        pplt.ylabel(\"°C\")\n",
        "        # получение столбцов с датами \n",
        "        dates = [datetime.utcfromtimestamp(int(_d['dt'])).strftime('%d.%m') for _d in data['temps'][:]]\n",
        "\n",
        "        # получение столбцов с тепературами\n",
        "        temps = [ast.literal_eval(_t['temp'])['day'] for _t in data['temps'][:]]\n",
        "\n",
        "        # получение столбцов со средними тепературами\n",
        "        meds = [(ast.literal_eval(_t['temp'])['min'] + ast.literal_eval(_t['temp'])['max']) / 2 for _t in data['temps'][:]]\n",
        "\n",
        "        # построение диаграммы рассеяния\n",
        "        pplt.scatter(dates, temps, label = 'Температура')\n",
        "\n",
        "        # построение диаграммы рассеяния средних температур\n",
        "        pplt.plot(dates, meds, label = 'Средняя температура')\n",
        "\n",
        "        #добавление легенды\n",
        "        pplt.legend()\n",
        "\n",
        "        pplt.show()\n",
        "\n",
        "        # построенный график необходимо оптимизировать:\n",
        "        #  - добавить название \n",
        "        #  - правильно расположить ось абсцисс\n",
        "        #  - упростить вывод дат (на этом графике они выводятся в формате unixtime)\n",
        "        #  - вывести более строгие значения для подписей осей абсцисс и ординат \n",
        "        #  (xticks, yticks)\n",
        "        # - добавить на график температуры остальных дат \n",
        "        # - добавить второй график со средними значениями\n",
        "\n",
        "visualise_data(weather_data_json)\n"
      ],
      "execution_count": null,
      "outputs": [
        {
          "output_type": "display_data",
          "data": {
            "image/png": "[encoded data removed]",
            "text/plain": [
              "<Figure size 432x288 with 1 Axes>"
            ]
          },
          "metadata": {
            "needs_background": "light"
          }
        }
      ]
    }
  ]
}